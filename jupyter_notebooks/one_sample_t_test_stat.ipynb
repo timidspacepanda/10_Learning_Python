{
 "cells": [
  {
   "cell_type": "markdown",
   "id": "0",
   "metadata": {},
   "source": [
    "# Scenario: One-Sample t-Test\n",
    "You have test scores from a class and want to check if the average score is significantly different from 75."
   ]
  },
  {
   "cell_type": "code",
   "execution_count": null,
   "id": "1",
   "metadata": {},
   "outputs": [],
   "source": [
    "import numpy as np\n",
    "from scipy.stats import ttest_1samp\n",
    "from utils import check_null_hypothesis_rejected\n",
    "\n",
    "# Sample data\n",
    "scores = np.array([82, 79, 88, 72, 90, 85, 78, 74])\n",
    "\n",
    "# Population mean to compare against\n",
    "population_mean = 75\n",
    "\n",
    "# Perform one-sample t-test\n",
    "t_stat, p_value = ttest_1samp(scores, population_mean)\n",
    "\n",
    "# Results\n",
    "print(f\"Sample mean: {np.mean(scores):.2f}\")\n",
    "print(f\"T-statistic: {t_stat:.4f}\")\n",
    "print(f\"P-value: {p_value:.4f}\")\n",
    "\n",
    "# Interpretation\n",
    "check_null_hypothesis_rejected(p_value)"
   ]
  },
  {
   "cell_type": "markdown",
   "id": "2",
   "metadata": {},
   "source": [
    "## Manual Implementation"
   ]
  },
  {
   "cell_type": "code",
   "execution_count": null,
   "id": "3",
   "metadata": {},
   "outputs": [],
   "source": [
    "import numpy as np\n",
    "from math import sqrt\n",
    "from scipy.stats import t\n",
    "from utils import check_null_hypothesis_rejected\n",
    "\n",
    "# Sample data\n",
    "scores = np.array([82, 79, 88, 72, 90, 85, 78, 74])\n",
    "mu_0 = 75 # Hypothesized population mean\n",
    "\n",
    "# Step 1: Calculate sample mean and size\n",
    "x_bar = np.mean(scores)\n",
    "n = len(scores)\n",
    "\n",
    "# Step 2: Calculate sample standard deviation (ddof=1 for sample std)\n",
    "s = np.std(scores, ddof=1)\n",
    "\n",
    "# Step 3: Calculate t-statistic\n",
    "t_stat = (x_bar - mu_0) / (s / sqrt(n))\n",
    "\n",
    "# Step 4: Degrees of freedom\n",
    "df = n - 1\n",
    "\n",
    "# Step 5: P-value\n",
    "p_value = 2 * (1 - t.cdf(abs(t_stat), df))\n",
    "\n",
    "# Output\n",
    "print(f\"Sample mean: {x_bar:.2f}\")\n",
    "print(f\"Sample std dev: {s:.2f}\")\n",
    "print(f\"T-statistic: {t_stat:.4f}\")\n",
    "print(f\"P-value: {p_value:.4f}\")\n",
    "print(f\"Degrees of freedom: {df}\")\n",
    "\n",
    "# Interpretation\n",
    "check_null_hypothesis_rejected(p_value)"
   ]
  }
 ],
 "metadata": {
  "kernelspec": {
   "display_name": "DataAnalysis_Statistics",
   "language": "python",
   "name": "python3"
  },
  "language_info": {
   "codemirror_mode": {
    "name": "ipython",
    "version": 3
   },
   "file_extension": ".py",
   "mimetype": "text/x-python",
   "name": "python",
   "nbconvert_exporter": "python",
   "pygments_lexer": "ipython3",
   "version": "3.11.13"
  }
 },
 "nbformat": 4,
 "nbformat_minor": 5
}
