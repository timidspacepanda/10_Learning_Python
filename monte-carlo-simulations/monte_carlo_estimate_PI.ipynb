{
 "cells": [
  {
   "cell_type": "code",
   "execution_count": null,
   "id": "0",
   "metadata": {},
   "outputs": [],
   "source": [
    "import random\n",
    "import math\n",
    "\n",
    "# Number of random points to generate\n",
    "num_points = 100000\n",
    "inside_circle = 0\n",
    "\n",
    "for _ in range(num_points):\n",
    "    x = random.uniform(0, 1)\n",
    "    y = random.uniform(0, 1)\n",
    "\n",
    "    distance = math.sqrt(x**2 + y**2)\n",
    "\n",
    "    if distance <= 1:\n",
    "        inside_circle += 1\n",
    "\n",
    "# pi is approximately 4 x (points inside circle / total points)\n",
    "pi_estimate = 4 * inside_circle / num_points\n",
    "\n",
    "print(f\"Estimated value of pi: {pi_estimate:.5f}\")"
   ]
  }
 ],
 "metadata": {
  "kernelspec": {
   "display_name": "DataAnalysis_Statistics",
   "language": "python",
   "name": "python3"
  },
  "language_info": {
   "codemirror_mode": {
    "name": "ipython",
    "version": 3
   },
   "file_extension": ".py",
   "mimetype": "text/x-python",
   "name": "python",
   "nbconvert_exporter": "python",
   "pygments_lexer": "ipython3",
   "version": "3.11.13"
  }
 },
 "nbformat": 4,
 "nbformat_minor": 5
}
