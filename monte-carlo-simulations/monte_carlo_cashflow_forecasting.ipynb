{
 "cells": [
  {
   "cell_type": "code",
   "execution_count": 46,
   "id": "e89a399f",
   "metadata": {},
   "outputs": [
    {
     "name": "stdout",
     "output_type": "stream",
     "text": [
      "Expected annual cash flow: $9,607.38\n",
      "Probability of negative cash flow: 0.00%\n"
     ]
    }
   ],
   "source": [
    "# Estimate the total annual cash flow based on uncertain monthly income expenses.\n",
    "\n",
    "import numpy as np\n",
    "\n",
    "monthly_income_mean = 4000\n",
    "monthly_income_std = 400\n",
    "monthly_expense_mean = 3200\n",
    "monthly_expense_std = 300\n",
    "\n",
    "simulations = 10000\n",
    "annual_cashflows = []\n",
    "\n",
    "for _ in range(simulations):\n",
    "    income = np.random.normal(monthly_income_mean, monthly_income_std, 12)\n",
    "    expenses = np.random.normal(monthly_expense_mean, monthly_expense_std, 12)\n",
    "    cashflow = np.sum(income - expenses)\n",
    "    annual_cashflows.append(cashflow)\n",
    "\n",
    "print(f\"Expected annual cash flow: ${np.mean(annual_cashflows):,.2f}\")\n",
    "print(f\"Probability of negative cash flow: {(np.mean(np.array(annual_cashflows) < 0) * 100):.2f}%\")\n"
   ]
  }
 ],
 "metadata": {
  "kernelspec": {
   "display_name": "DataAnalysis_Statistics",
   "language": "python",
   "name": "python3"
  },
  "language_info": {
   "codemirror_mode": {
    "name": "ipython",
    "version": 3
   },
   "file_extension": ".py",
   "mimetype": "text/x-python",
   "name": "python",
   "nbconvert_exporter": "python",
   "pygments_lexer": "ipython3",
   "version": "3.11.13"
  }
 },
 "nbformat": 4,
 "nbformat_minor": 5
}
