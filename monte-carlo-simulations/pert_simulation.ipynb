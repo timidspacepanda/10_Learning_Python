{
 "cells": [
  {
   "cell_type": "code",
   "execution_count": 30,
   "id": "bcb39a60",
   "metadata": {},
   "outputs": [
    {
     "name": "stdout",
     "output_type": "stream",
     "text": [
      "Expected project duration: 12.00 days\n",
      "90th percentile (conservative): 14.21 days\n"
     ]
    }
   ],
   "source": [
    "# Task time estimates: (optimistic, mostly likely, pessimistic)\n",
    "import numpy as np\n",
    "\n",
    "tasks = [(2, 4, 7), (3, 5, 9), (1, 2, 3)]\n",
    "simulations = 10000\n",
    "results = []\n",
    "\n",
    "for _ in range(simulations):\n",
    "    total_time = 0\n",
    "    for optimistic, likely, pessmistic in tasks:\n",
    "        # Triangular distribution\n",
    "        time = np.random.triangular(optimistic, likely, pessmistic)\n",
    "        total_time += time\n",
    "    results.append(total_time)\n",
    "\n",
    "print(f\"Expected project duration: {np.mean(results):.2f} days\")\n",
    "print(f\"90th percentile (conservative): {np.percentile(results, 90):.2f} days\")\n"
   ]
  }
 ],
 "metadata": {
  "kernelspec": {
   "display_name": "DataAnalysis_Statistics",
   "language": "python",
   "name": "python3"
  },
  "language_info": {
   "codemirror_mode": {
    "name": "ipython",
    "version": 3
   },
   "file_extension": ".py",
   "mimetype": "text/x-python",
   "name": "python",
   "nbconvert_exporter": "python",
   "pygments_lexer": "ipython3",
   "version": "3.11.13"
  }
 },
 "nbformat": 4,
 "nbformat_minor": 5
}
