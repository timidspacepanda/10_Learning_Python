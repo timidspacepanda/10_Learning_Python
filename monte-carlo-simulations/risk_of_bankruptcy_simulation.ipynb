{
 "cells": [
  {
   "cell_type": "code",
   "execution_count": null,
   "id": "0",
   "metadata": {},
   "outputs": [],
   "source": [
    "# Model a scenario where your balance drops below zero due to random losses.\n",
    "\n",
    "import numpy as np \n",
    "\n",
    "balance = 1000\n",
    "num_days = 365\n",
    "simulations = 10000\n",
    "ruined = 0\n",
    "\n",
    "for _ in range(simulations):\n",
    "    daily_changes = np.random.normal(0,5,num_days)\n",
    "    balances = balance + np.cumsum(daily_changes)\n",
    "    if np.any(balances < 0):\n",
    "        ruined += 1\n",
    "\n",
    "print(f\"Probability of going bankrupt: {ruined /simulations * 100:.2f}%\")"
   ]
  }
 ],
 "metadata": {
  "kernelspec": {
   "display_name": "DataAnalysis_Statistics",
   "language": "python",
   "name": "python3"
  },
  "language_info": {
   "codemirror_mode": {
    "name": "ipython",
    "version": 3
   },
   "file_extension": ".py",
   "mimetype": "text/x-python",
   "name": "python",
   "nbconvert_exporter": "python",
   "pygments_lexer": "ipython3",
   "version": "3.11.13"
  }
 },
 "nbformat": 4,
 "nbformat_minor": 5
}
