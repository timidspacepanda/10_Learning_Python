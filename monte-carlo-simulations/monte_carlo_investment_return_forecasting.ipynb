{
 "cells": [
  {
   "cell_type": "code",
   "execution_count": 91,
   "id": "37740809",
   "metadata": {},
   "outputs": [
    {
     "name": "stdout",
     "output_type": "stream",
     "text": [
      "Average value: $10,700.98\n",
      "5th percentile (worst-case): $8,221.69\n",
      "95th percentile (best-case): $13,153.16\n"
     ]
    }
   ],
   "source": [
    "# Simulate future portfolio value after 1 year based on random returns\n",
    "\n",
    "import numpy as np\n",
    "\n",
    "initial_investment = 10000\n",
    "mean_return = 0.07  # 7% annual return\n",
    "std_dev = 0.15      # 15% volatility\n",
    "num_simulations = 100000\n",
    "\n",
    "# Simulate end-of-year values\n",
    "returns = np.random.normal(mean_return, std_dev, num_simulations)\n",
    "final_values = initial_investment * (1 + returns)\n",
    "\n",
    "print(f\"Average value: ${np.mean(final_values):,.2f}\")\n",
    "print(f\"5th percentile (worst-case): ${np.percentile(final_values, 5):,.2f}\")\n",
    "print(f\"95th percentile (best-case): ${np.percentile(final_values, 95):,.2f}\")"
   ]
  }
 ],
 "metadata": {
  "kernelspec": {
   "display_name": "DataAnalysis_Statistics",
   "language": "python",
   "name": "python3"
  },
  "language_info": {
   "codemirror_mode": {
    "name": "ipython",
    "version": 3
   },
   "file_extension": ".py",
   "mimetype": "text/x-python",
   "name": "python",
   "nbconvert_exporter": "python",
   "pygments_lexer": "ipython3",
   "version": "3.11.13"
  }
 },
 "nbformat": 4,
 "nbformat_minor": 5
}
