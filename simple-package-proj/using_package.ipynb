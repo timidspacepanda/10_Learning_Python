{
 "cells": [
  {
   "cell_type": "code",
   "execution_count": 2,
   "id": "bd027c0c",
   "metadata": {},
   "outputs": [
    {
     "name": "stdout",
     "output_type": "stream",
     "text": [
      "Circle area: 78.53981633974483\n",
      "Rectangle perimeter 20\n"
     ]
    }
   ],
   "source": [
    "import sys\n",
    "sys.path.append('..') # Add the project root\n",
    "\n",
    "from shapes import Circle, Rectangle\n",
    "\n",
    "c = Circle(5)\n",
    "print(\"Circle area:\", c.area())\n",
    "\n",
    "r = Rectangle(4,6)\n",
    "print(\"Rectangle perimeter\", r.perimeter())"
   ]
  },
  {
   "cell_type": "code",
   "execution_count": null,
   "id": "625e2cd9",
   "metadata": {},
   "outputs": [],
   "source": []
  }
 ],
 "metadata": {
  "kernelspec": {
   "display_name": "DataAnalysis_Statistics",
   "language": "python",
   "name": "python3"
  },
  "language_info": {
   "codemirror_mode": {
    "name": "ipython",
    "version": 3
   },
   "file_extension": ".py",
   "mimetype": "text/x-python",
   "name": "python",
   "nbconvert_exporter": "python",
   "pygments_lexer": "ipython3",
   "version": "3.11.13"
  }
 },
 "nbformat": 4,
 "nbformat_minor": 5
}
