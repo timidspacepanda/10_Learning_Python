{
 "cells": [
  {
   "cell_type": "code",
   "execution_count": null,
   "id": "0",
   "metadata": {},
   "outputs": [],
   "source": [
    "## Numerical Paired T-Test\n",
    "\n",
    "import numpy as np\n",
    "from scipy.stats import t\n",
    "from utils import check_null_hypothesis_rejected\n",
    "\n",
    "def randomized_array(target_mean, target_std, n=100):\n",
    "    # Step 1: Generate standard normal data\n",
    "    data = np.random.randn(n)\n",
    "\n",
    "    # Step 2: Scale and shift to target mean and std\n",
    "    scaled_data = data * target_std + target_mean\n",
    "\n",
    "    # Verify result\n",
    "    print(f\"Actual mean: {np.mean(scaled_data):.2f}\")\n",
    "    print(f\"Actual std dev: {np.std(scaled_data, ddof=1):.2f}\\n\")\n",
    "\n",
    "    return scaled_data\n",
    "\n",
    "# Paired data (before and after)\n",
    "\"\"\"\n",
    "before = np.array([150, 160, 165, 155, 170])\n",
    "after = np.array([140, 155, 160, 150, 165])\n",
    "\"\"\"\n",
    "print(f\"Before Group:\")\n",
    "before = randomized_array(100, 75) # mean and std dev (sample)\n",
    "print(f\"After Group:\")\n",
    "after = randomized_array(100, 12)\n",
    "\n",
    "# Step 1: Differences\n",
    "d = before - after\n",
    "\n",
    "# Step 2: Mean and std of differences\n",
    "d_mean = np.mean(d)\n",
    "d_std = np.std(d, ddof=1) # sample std deviation. sample, ddof=1 / population, ddof=0 (default)\n",
    "n = len(d)\n",
    "\n",
    "# Step 3: t-statistic\n",
    "t_stat = d_mean / (d_std / np.sqrt(n))\n",
    "\n",
    "# Step 4: Degrees of freedom\n",
    "df = n - 1\n",
    "\n",
    "# Step 5: Two-tailed p-value\n",
    "p_value = 2 * (1 - t.cdf(np.abs(t_stat), df))\n",
    "\n",
    "# Output\n",
    "print(f\"Mean of differences: {d_mean:.4f}\")\n",
    "print(f\"Standard deviation: {d_std:.4f}\")\n",
    "print(f\"t-statistic: {t_stat:.4f}\")\n",
    "print(f\"p-value: {p_value:.4f}\")\n",
    "\n",
    "check_null_hypothesis_rejected(p_value)\n",
    "\n"
   ]
  }
 ],
 "metadata": {
  "kernelspec": {
   "display_name": "DataAnalysis_Statistics",
   "language": "python",
   "name": "python3"
  },
  "language_info": {
   "codemirror_mode": {
    "name": "ipython",
    "version": 3
   },
   "file_extension": ".py",
   "mimetype": "text/x-python",
   "name": "python",
   "nbconvert_exporter": "python",
   "pygments_lexer": "ipython3",
   "version": "3.11.13"
  }
 },
 "nbformat": 4,
 "nbformat_minor": 5
}
