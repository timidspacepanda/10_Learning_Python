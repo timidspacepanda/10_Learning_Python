{
 "cells": [
  {
   "cell_type": "code",
   "execution_count": null,
   "id": "0",
   "metadata": {},
   "outputs": [],
   "source": [
    "## Maximum Likelihood Estimation Example\n",
    "\n",
    "import numpy as np\n",
    "from scipy.stats import norm\n",
    "\n",
    "# Simulated data\n",
    "data = np.random.normal(loc=5, scale=2, size=100)\n",
    "\n",
    "# Estimate MLE of mu and sigma using scipy\n",
    "mu_mle, std_mle = norm.fit(data)\n",
    "\n",
    "print(f\"MLE Estimate: mu = {mu_mle:.2f}, sigma = {std_mle:.2f}\")"
   ]
  }
 ],
 "metadata": {
  "kernelspec": {
   "display_name": "DataAnalysis_Statistics",
   "language": "python",
   "name": "python3"
  },
  "language_info": {
   "codemirror_mode": {
    "name": "ipython",
    "version": 3
   },
   "file_extension": ".py",
   "mimetype": "text/x-python",
   "name": "python",
   "nbconvert_exporter": "python",
   "pygments_lexer": "ipython3",
   "version": "3.11.13"
  }
 },
 "nbformat": 4,
 "nbformat_minor": 5
}
