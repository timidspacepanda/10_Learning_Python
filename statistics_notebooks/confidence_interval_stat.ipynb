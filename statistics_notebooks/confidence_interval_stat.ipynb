{
 "cells": [
  {
   "cell_type": "code",
   "execution_count": null,
   "id": "0",
   "metadata": {},
   "outputs": [],
   "source": [
    "# Example: Confidence Interval for the Mean\n",
    "\n",
    "import numpy as np\n",
    "import scipy.stats as stats\n",
    "import matplotlib.pyplot as plt\n",
    "\n",
    "# Generate random sample data\n",
    "np.random.seed(42)\n",
    "data = np.random.normal(loc=50, scale=10, size=100) # mean=50, std=50, n=100\n",
    "\n",
    "# Sample statistics\n",
    "mean = np.mean(data)\n",
    "sem = stats.sem(data) # standard error of the mean\n",
    "confidence = 0.95\n",
    "\n",
    "# Caclculate confidence interval\n",
    "h = sem * stats.t.ppf((1 + confidence) / 2, df=len(data)-1)\n",
    "ci_lower = mean - h\n",
    "ci_upper = mean + h\n",
    "\n",
    "print(f\"Mean: {mean:.2f}\")\n",
    "print(f\"{int(confidence*100)}% Confidence Interval: ({ci_lower:.2f}, {ci_upper:.2f})\")\n",
    "\n",
    "# Plot\n",
    "plt.figure(figsize=(8,4))\n",
    "plt.hist(data, bins=20, alpha=0.7, label='Sample Data')\n",
    "plt.axvline(mean, color='blue', linestyle='--', label='Mean')\n",
    "plt.axvline(ci_lower, color='red', linestyle=':', label='95% CI Lower')\n",
    "plt.axvline(ci_upper, color='red', linestyle=':', label='95% CI Upper')\n",
    "plt.title('Confidence Interval for Sample Mean')\n",
    "plt.legend()\n",
    "plt.grid(True)\n",
    "plt.show()\n"
   ]
  }
 ],
 "metadata": {
  "kernelspec": {
   "display_name": "DataAnalysis_Statistics",
   "language": "python",
   "name": "python3"
  },
  "language_info": {
   "codemirror_mode": {
    "name": "ipython",
    "version": 3
   },
   "file_extension": ".py",
   "mimetype": "text/x-python",
   "name": "python",
   "nbconvert_exporter": "python",
   "pygments_lexer": "ipython3",
   "version": "3.11.13"
  }
 },
 "nbformat": 4,
 "nbformat_minor": 5
}
