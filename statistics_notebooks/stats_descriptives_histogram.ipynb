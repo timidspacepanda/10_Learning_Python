{
 "cells": [
  {
   "cell_type": "code",
   "execution_count": null,
   "id": "0",
   "metadata": {},
   "outputs": [],
   "source": [
    "# import libraries\n",
    "import matplotlib.pyplot as plt\n",
    "import numpy as np\n",
    "import scipy.stats as stats "
   ]
  },
  {
   "cell_type": "code",
   "execution_count": null,
   "id": "1",
   "metadata": {},
   "outputs": [],
   "source": [
    "## create some data\n",
    "\n",
    "# number of data points\n",
    "n = 1000\n",
    "\n",
    "# number of histogram bins\n",
    "k = 40\n",
    "\n",
    "# generate log-normal distribution\n",
    "data = np.exp( np.random.randn(n)/2)\n",
    "\n",
    "# one way to show a histogram\n",
    "plt.hist(data, k)\n",
    "plt.xlabel('Value')\n",
    "plt.ylabel('Count')\n",
    "plt.show()"
   ]
  },
  {
   "cell_type": "code",
   "execution_count": null,
   "id": "2",
   "metadata": {},
   "outputs": [],
   "source": [
    "## try the Freedom-Diaconis rule\n",
    "\n",
    "r = 2*stats.iqr(data)*n**(-1/3)\n",
    "b = np.ceil( (max(data-min(data))-min(data) )/r )\n",
    "\n",
    "plt.hist(data, int(b))\n",
    "\n",
    "# or directly from the hist function\n",
    "#plt.hist(data,bins='fd')\n",
    "\n",
    "plt.xlabel('Value')\n",
    "plt.ylabel('Count')\n",
    "plt.title('F- \"rule\" using %g bins'%b)\n",
    "plt.show()"
   ]
  },
  {
   "cell_type": "code",
   "execution_count": null,
   "id": "3",
   "metadata": {},
   "outputs": [],
   "source": [
    "# small aside on Seaborn\n",
    "\n",
    "import seaborn as sns\n",
    "sns.displot(data) # uses FD rule by default"
   ]
  },
  {
   "cell_type": "code",
   "execution_count": null,
   "id": "4",
   "metadata": {},
   "outputs": [],
   "source": [
    "## Lots of histograms with increasing bins\n",
    "\n",
    "bins2try = np.round( np.linspace(5, n/2, 30) )\n",
    "\n",
    "for bini in range(len(bins2try)):\n",
    "    y,x = np.histogram(data,int(bins2try[bini]))\n",
    "    x = (x[:-1]+x[1:])/2\n",
    "    plt.plot(x,y,'.-')"
   ]
  }
 ],
 "metadata": {
  "kernelspec": {
   "display_name": "DataAnalysis_Statistics",
   "language": "python",
   "name": "python3"
  },
  "language_info": {
   "codemirror_mode": {
    "name": "ipython",
    "version": 3
   },
   "file_extension": ".py",
   "mimetype": "text/x-python",
   "name": "python",
   "nbconvert_exporter": "python",
   "pygments_lexer": "ipython3",
   "version": "3.11.13"
  }
 },
 "nbformat": 4,
 "nbformat_minor": 5
}
