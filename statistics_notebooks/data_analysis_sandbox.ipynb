{
 "cells": [
  {
   "cell_type": "code",
   "execution_count": null,
   "id": "0",
   "metadata": {},
   "outputs": [],
   "source": [
    "import pandas as pd\n",
    "import matplotlib.pyplot as plt\n",
    "\n",
    "# import csv file\n",
    "df = pd.read_csv(\"C:/Users/iamky/OneDrive/02_Learning/10_Learning_Python/data/dropout-and-academic-success-data.csv\", delimiter=';')"
   ]
  },
  {
   "cell_type": "code",
   "execution_count": null,
   "id": "1",
   "metadata": {},
   "outputs": [],
   "source": [
    "df"
   ]
  },
  {
   "cell_type": "code",
   "execution_count": null,
   "id": "2",
   "metadata": {},
   "outputs": [],
   "source": [
    "# View Data\n",
    "\n",
    "#df.info()\n",
    "\n",
    "#df.columns\n",
    "\n",
    "df.head()\n",
    "\n",
    "# Create a pivot plot\n",
    "\n",
    "#index_names = [ 'Gender', 'Marital status' ]\n",
    "index_names = [ 'Gender' ]\n",
    "column_names = [ 'Target' ]\n",
    "value_names = [ 'Admission grade', 'Age at enrollment' ] \n",
    "\n",
    "#pivot = df.pivot_table(index=index_names, columns=column_names, values=value_names, aggfunc=\"mean\")\n",
    "#pivot = df.pivot_table(index=index_names, values=value_names, aggfunc={value_names[0]:\"mean\",value_names[1]:'mean'})\n",
    "pivot = df.pivot_table(index=index_names, columns=column_names, values=value_names, aggfunc={value_names[0]:\"mean\",value_names[1]:'mean'})\n",
    "\n",
    "print(pivot)\n",
    "\n"
   ]
  },
  {
   "cell_type": "code",
   "execution_count": null,
   "id": "3",
   "metadata": {},
   "outputs": [],
   "source": [
    "# Plot\n",
    "pivot.plot(kind='bar')\n",
    "plt.title(\"Placeholder\")\n",
    "plt.ylabel(value_names[0])\n",
    "plt.show()"
   ]
  }
 ],
 "metadata": {
  "kernelspec": {
   "display_name": "DataAnalysis_Statistics",
   "language": "python",
   "name": "python3"
  },
  "language_info": {
   "codemirror_mode": {
    "name": "ipython",
    "version": 3
   },
   "file_extension": ".py",
   "mimetype": "text/x-python",
   "name": "python",
   "nbconvert_exporter": "python",
   "pygments_lexer": "ipython3",
   "version": "3.11.13"
  }
 },
 "nbformat": 4,
 "nbformat_minor": 5
}
