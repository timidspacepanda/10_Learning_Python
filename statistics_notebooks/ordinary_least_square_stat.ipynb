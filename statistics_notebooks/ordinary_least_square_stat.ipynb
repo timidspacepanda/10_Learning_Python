{
 "cells": [
  {
   "cell_type": "markdown",
   "id": "0",
   "metadata": {},
   "source": [
    "# Orindary Leas Squares (OLS) (Summary Output)"
   ]
  },
  {
   "cell_type": "code",
   "execution_count": null,
   "id": "1",
   "metadata": {},
   "outputs": [],
   "source": [
    "import statsmodels.api as sm\n",
    "import pandas as pd\n",
    "\n",
    "# Create DataFrame\n",
    "data = {\n",
    "    'X1': [1, 2, 3, 4, 5],\n",
    "    'X2': [2, 3, 4, 5 ,6],\n",
    "    'y':  [3, 4, 3, 5, 6]\n",
    "}\n",
    "df = pd.DataFrame(data)\n",
    "\n",
    "X = df[['X1', 'X2']]\n",
    "X = sm.add_constant(X) # add intercept term\n",
    "y = df['y']\n",
    "\n",
    "model = sm.OLS(y,X).fit()\n",
    "print(model.summary())\n"
   ]
  }
 ],
 "metadata": {
  "kernelspec": {
   "display_name": "DataAnalysis_Statistics",
   "language": "python",
   "name": "python3"
  },
  "language_info": {
   "codemirror_mode": {
    "name": "ipython",
    "version": 3
   },
   "file_extension": ".py",
   "mimetype": "text/x-python",
   "name": "python",
   "nbconvert_exporter": "python",
   "pygments_lexer": "ipython3",
   "version": "3.11.13"
  }
 },
 "nbformat": 4,
 "nbformat_minor": 5
}
