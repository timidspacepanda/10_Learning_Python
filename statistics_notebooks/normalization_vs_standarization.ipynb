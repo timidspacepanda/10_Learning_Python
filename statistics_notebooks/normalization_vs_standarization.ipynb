{
 "cells": [
  {
   "cell_type": "markdown",
   "id": "0",
   "metadata": {},
   "source": [
    "### Normalization vs. Standarization"
   ]
  },
  {
   "cell_type": "code",
   "execution_count": null,
   "id": "1",
   "metadata": {},
   "outputs": [],
   "source": [
    "# 1. Setup Example Data\n",
    "import numpy as np\n",
    "import pandas as pd\n",
    "\n",
    "# Example raw data (e.g., exam scores or features)\n",
    "data = np.array([[100, 0.001],\n",
    "                 [200, 0.010],\n",
    "                 [300, 0.100],\n",
    "                 [400, 1.000],\n",
    "                 [500, 10.000]])\n",
    "\n",
    "df = pd.DataFrame(data, columns=[\"Feature_1\", \"Feature_2\"])\n",
    "print(df)"
   ]
  },
  {
   "cell_type": "code",
   "execution_count": null,
   "id": "2",
   "metadata": {},
   "outputs": [],
   "source": [
    "# 2. Normalization (Min-Max Scaling)\n",
    "from sklearn.preprocessing import MinMaxScaler\n",
    "\n",
    "scaler = MinMaxScaler()\n",
    "normalized = scaler.fit_transform(df)\n",
    "\n",
    "print(\"Normalized (Min-Max):\")\n",
    "print(pd.DataFrame(normalized, columns=df.columns))"
   ]
  },
  {
   "cell_type": "code",
   "execution_count": null,
   "id": "3",
   "metadata": {},
   "outputs": [],
   "source": [
    "# 3. Standarization (Z-score Scaling)\n",
    "\n",
    "from sklearn.preprocessing import StandardScaler\n",
    "\n",
    "scaler = StandardScaler()\n",
    "standardized = scaler.fit_transform(df)\n",
    "\n",
    "print(\"Standardized (Z-score):\")\n",
    "print(pd.DataFrame(standardized, columns=df.columns))"
   ]
  }
 ],
 "metadata": {
  "kernelspec": {
   "display_name": "DataAnalysis_Statistics",
   "language": "python",
   "name": "python3"
  },
  "language_info": {
   "codemirror_mode": {
    "name": "ipython",
    "version": 3
   },
   "file_extension": ".py",
   "mimetype": "text/x-python",
   "name": "python",
   "nbconvert_exporter": "python",
   "pygments_lexer": "ipython3",
   "version": "3.11.13"
  }
 },
 "nbformat": 4,
 "nbformat_minor": 5
}
