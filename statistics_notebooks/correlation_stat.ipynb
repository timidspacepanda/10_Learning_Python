{
 "cells": [
  {
   "cell_type": "code",
   "execution_count": null,
   "id": "0",
   "metadata": {},
   "outputs": [],
   "source": [
    "## Correlation Example\n",
    "\n",
    "# Using pandas (.corr()) -- for full correlation matrix\n",
    "import pandas as pd\n",
    "\n",
    "# Example DataFrame\n",
    "data = {\n",
    "    'hours_studied': [2, 4, 6, 8, 10],\n",
    "    'exam_score': [60, 65, 70, 80, 85],\n",
    "    'sleep_hours': [8, 7, 6, 5, 4]\n",
    "}\n",
    "\n",
    "df = pd.DataFrame(data)\n",
    "\n",
    "# Pearson correlation by default (Data are continuous, normally distributed, and linear)\n",
    "correlation_matrix_pearson = df.corr(method='pearson') # or 'spearman', 'kendall'\n",
    "print('Pearson Method: \\n')\n",
    "print(correlation_matrix_pearson)\n",
    "print('\\n')\n",
    "\n",
    "# Spearman correlation (Data are ordinal or not linear, but monotonic)\n",
    "correlation_matrix_spearman = df.corr(method='spearman')\n",
    "print('Spearman Method \\n')\n",
    "print(correlation_matrix_spearman)\n",
    "print('\\n')\n",
    "\n",
    "# Kendall correlation (Small datasets or many tied ranks)\n",
    "correlation_matrix_kendall = df.corr(method='kendall')\n",
    "print('Kendall Method \\n')\n",
    "print(correlation_matrix_kendall)\n",
    "print('\\n')\n",
    "\n",
    " "
   ]
  },
  {
   "cell_type": "code",
   "execution_count": null,
   "id": "1",
   "metadata": {},
   "outputs": [],
   "source": [
    "# Using scipy.stats -- for specific variable pairs\n",
    "from scipy.stats import pearsonr, spearmanr\n",
    "\n",
    "# Data columns\n",
    "x = df['hours_studied']\n",
    "y = df['exam_score']\n",
    "\n",
    "# Pearson correlation\n",
    "r , p = pearsonr(x, y)\n",
    "print(f\"Pearson correlation: {r:.3f}, p-value: {p:.4f}\")\n",
    "\n",
    "# Spearman rank correlation (if data are not linear or not normal)\n",
    "r_s, p_s = spearmanr(x , y)\n",
    "print(f\"Spearman correlation: {r_s:.3f}, p-value: {p_s:.4f}\")"
   ]
  },
  {
   "cell_type": "code",
   "execution_count": null,
   "id": "2",
   "metadata": {},
   "outputs": [],
   "source": [
    "# Visualize with a Scatterplot\n",
    "\n",
    "import matplotlib.pyplot as plt\n",
    "\n",
    "plt.scatter(df['hours_studied'], df['exam_score'])\n",
    "plt.xlabel(\"Hours Studied\")\n",
    "plt.ylabel(\"Exam Score\")\n",
    "plt.title(\"Scatterplot of Hours Studied vs. Exam Score\")\n",
    "plt.grid(True)\n",
    "plt.show()"
   ]
  }
 ],
 "metadata": {
  "kernelspec": {
   "display_name": "DataAnalysis_Statistics",
   "language": "python",
   "name": "python3"
  },
  "language_info": {
   "codemirror_mode": {
    "name": "ipython",
    "version": 3
   },
   "file_extension": ".py",
   "mimetype": "text/x-python",
   "name": "python",
   "nbconvert_exporter": "python",
   "pygments_lexer": "ipython3",
   "version": "3.11.13"
  }
 },
 "nbformat": 4,
 "nbformat_minor": 5
}
