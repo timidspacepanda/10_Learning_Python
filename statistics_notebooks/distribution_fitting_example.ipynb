{
 "cells": [
  {
   "cell_type": "code",
   "execution_count": null,
   "id": "0",
   "metadata": {},
   "outputs": [],
   "source": [
    "import numpy as np\n",
    "import seaborn as sns\n",
    "import scipy.stats as stats\n",
    "import matplotlib.pyplot as plt\n",
    "\n",
    "# Simulated data\n",
    "data = np.random.normal(loc=5, scale=2, size=100)\n",
    "\n",
    "# Histogram\n",
    "sns.histplot(data, kde=True)\n",
    "plt.show()\n",
    "\n",
    "# Q-Q plot\n",
    "stats.probplot(data, dist=\"norm\", plot=plt)\n",
    "plt.show()"
   ]
  },
  {
   "cell_type": "code",
   "execution_count": null,
   "id": "1",
   "metadata": {},
   "outputs": [],
   "source": [
    "# Fit multiple distributions\n",
    "import scipy.stats as stats\n",
    "distributions = [stats.norm, stats.expon, stats.gamma, stats.lognorm]\n",
    "results = {}\n",
    "\n",
    "for dist in distributions:\n",
    "    params = dist.fit(data)\n",
    "    loglik = np.sum(dist.logpdf(data, *params))\n",
    "    results[dist.name] = loglik\n",
    "\n",
    "# Best-fitting distribution\n",
    "best_fit = max(results, key=results.get)\n",
    "print(f\"Best fit: {best_fit}\")"
   ]
  }
 ],
 "metadata": {
  "kernelspec": {
   "display_name": "DataAnalysis_Statistics",
   "language": "python",
   "name": "python3"
  },
  "language_info": {
   "codemirror_mode": {
    "name": "ipython",
    "version": 3
   },
   "file_extension": ".py",
   "mimetype": "text/x-python",
   "name": "python",
   "nbconvert_exporter": "python",
   "pygments_lexer": "ipython3",
   "version": "3.11.13"
  }
 },
 "nbformat": 4,
 "nbformat_minor": 5
}
