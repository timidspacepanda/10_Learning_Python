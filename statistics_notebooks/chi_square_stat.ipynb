{
 "cells": [
  {
   "cell_type": "markdown",
   "id": "0",
   "metadata": {},
   "source": [
    "Chi-Square Statistic <br>\n",
    "\n",
    "Example: Null Hypothesis (H<sub>0</sub>) -- die is fair <br>\n",
    "\n",
    "|Face: |       1 |  2 |  3 |  4  | 5 |  6 |\n",
    "|---|---|---|---|---|---|---|\n",
    "|Observed:  | 18 | 2 | 14 | 4 | 6 | 6 |\n",
    "|Expected:  | 10 |10 | 10 |10 | 10 |10 |\n"
   ]
  },
  {
   "cell_type": "code",
   "execution_count": null,
   "id": "1",
   "metadata": {},
   "outputs": [],
   "source": [
    "def pass_fail_null_hypothesis(p_value):\n",
    "    alpha = 0.05\n",
    "    if p_value < alpha:\n",
    "        print(\"Reject the null hypothesis: the die may not be fair.\")\n",
    "    else:\n",
    "        print(\"Fail to reject the null hypothesis: the die appears fair.\")\n",
    "    "
   ]
  },
  {
   "cell_type": "code",
   "execution_count": null,
   "id": "2",
   "metadata": {},
   "outputs": [],
   "source": [
    "# Chi-Square Statistic Example\n",
    "# Failed to Reject the Null Hypothesis (p-value > 0.05)\n",
    "\n",
    "import numpy as np\n",
    "from scipy.stats import chisquare\n",
    "\n",
    "# Observed and expected frequencies\n",
    "observed = np.array([10, 9, 11, 12, 8, 10])\n",
    "expected = np.array([10, 10, 10, 10, 10, 10])\n",
    "\n",
    "# Manual chi-square calculation\n",
    "chi_square_statistic = np.sum((observed - expected) ** 2 / expected)\n",
    "print(f\"Manual Chi-Square Satistic: {chi_square_statistic:.2f}\")\n",
    "\n",
    "# Using scipy\n",
    "chi2, p_value = chisquare(f_obs=observed, f_exp=expected)\n",
    "print(f\"scipy Chi-Square Statistic: {chi2:.2f}\")\n",
    "print(f\"P-value: {p_value:.4f}\")\n",
    "\n",
    "# Interpretation\n",
    "pass_fail_null_hypothesis(p_value)\n"
   ]
  },
  {
   "cell_type": "code",
   "execution_count": null,
   "id": "3",
   "metadata": {},
   "outputs": [],
   "source": [
    "# Successfully reject the Null Hypothesis (p-value < 0.05)\n",
    "\n",
    "import numpy as np\n",
    "from scipy.stats import chisquare\n",
    "\n",
    "# Observed and expected frequencies\n",
    "observed = np.array([18, 2, 14, 4, 16, 6])\n",
    "expected = np.array([10, 10, 10, 10, 10, 10])\n",
    "\n",
    "# Manual chi-square calculation\n",
    "chi_square_statistic = np.sum((observed - expected) ** 2 / expected)\n",
    "print(f\"Manual Chi-Square Satistic: {chi_square_statistic:.2f}\")\n",
    "\n",
    "# Using scipy\n",
    "chi2, p_value = chisquare(f_obs=observed, f_exp=expected)\n",
    "print(f\"scipy Chi-Square Statistic: {chi2:.2f}\")\n",
    "print(f\"P-value: {p_value:.4f}\")\n",
    "\n",
    "# Interpretation\n",
    "pass_fail_null_hypothesis(p_value)"
   ]
  }
 ],
 "metadata": {
  "kernelspec": {
   "display_name": "DataAnalysis_Statistics",
   "language": "python",
   "name": "python3"
  },
  "language_info": {
   "codemirror_mode": {
    "name": "ipython",
    "version": 3
   },
   "file_extension": ".py",
   "mimetype": "text/x-python",
   "name": "python",
   "nbconvert_exporter": "python",
   "pygments_lexer": "ipython3",
   "version": "3.11.13"
  }
 },
 "nbformat": 4,
 "nbformat_minor": 5
}
