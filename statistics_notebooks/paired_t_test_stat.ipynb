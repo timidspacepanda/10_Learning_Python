{
 "cells": [
  {
   "cell_type": "code",
   "execution_count": null,
   "id": "0",
   "metadata": {},
   "outputs": [],
   "source": [
    "# Paired T-Test Example\n",
    "\n",
    "from scipy.stats import ttest_rel\n",
    "from utils import check_null_hypothesis_rejected\n",
    "\n",
    "## Rejected Null Hypothesis\n",
    "# Blood pressure before and after treatment\n",
    "before = [150, 160, 165, 155, 170]\n",
    "after = [140, 155, 160, 150, 165]\n",
    "\n",
    "# Perform paired t-test\n",
    "t_stat, p_value = ttest_rel(before, after)\n",
    "\n",
    "# Results\n",
    "print(f\"Paired t-statistic: {t_stat:.4f}\")\n",
    "print(f\"P-value: {p_value:.4f}\")\n",
    "\n",
    "# Interpretation\n",
    "check_null_hypothesis_rejected(p_value)"
   ]
  },
  {
   "cell_type": "code",
   "execution_count": null,
   "id": "1",
   "metadata": {},
   "outputs": [],
   "source": [
    "## Fail to Rejct Null Hypothesis\n",
    "# Blood pressure before and after treatment\n",
    "before = [150, 150, 150, 150, 150]\n",
    "after = [151, 140, 130, 140, 140]\n",
    "\n",
    "# Perform paired t-test\n",
    "t_stat, p_value = ttest_rel(before, after)\n",
    "\n",
    "# Results\n",
    "print(f\"Paired t-statistic: {t_stat:.4f}\")\n",
    "print(f\"P-value: {p_value:.4f}\")\n",
    "\n",
    "# Interpretation\n",
    "check_null_hypothesis_rejected(p_value)"
   ]
  }
 ],
 "metadata": {
  "kernelspec": {
   "display_name": "DataAnalysis_Statistics",
   "language": "python",
   "name": "python3"
  },
  "language_info": {
   "codemirror_mode": {
    "name": "ipython",
    "version": 3
   },
   "file_extension": ".py",
   "mimetype": "text/x-python",
   "name": "python",
   "nbconvert_exporter": "python",
   "pygments_lexer": "ipython3",
   "version": "3.11.13"
  }
 },
 "nbformat": 4,
 "nbformat_minor": 5
}
