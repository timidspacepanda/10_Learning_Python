{
 "cells": [
  {
   "cell_type": "markdown",
   "id": "0",
   "metadata": {},
   "source": [
    "# Scenario: Two-Sample t-Test (Independent)\n",
    "You have test scores from *Group A* and *Group B*, and you want to compare their means."
   ]
  },
  {
   "cell_type": "code",
   "execution_count": null,
   "id": "1",
   "metadata": {},
   "outputs": [],
   "source": [
    "from scipy.stats import ttest_ind\n",
    "import numpy as np\n",
    "from utils import check_null_hypothesis_rejected\n",
    "\n",
    "# Sample data\n",
    "group_a = np.array([85, 90, 88, 75, 95])\n",
    "group_b = np.array([80, 70, 78, 65, 85])\n",
    "\n",
    "# Perform two-sample t-test (assumes equal variances by default)\n",
    "t_stat, p_value = ttest_ind(group_a, group_b)\n",
    "\n",
    "# Output results\n",
    "print(f\"T-statistic: {t_stat:.4f}\")\n",
    "print(f\"P-value: {p_value:.4f}\")\n",
    "\n",
    "# Interpretation\n",
    "check_null_hypothesis_rejected(p_value)"
   ]
  },
  {
   "cell_type": "markdown",
   "id": "2",
   "metadata": {},
   "source": [
    "## Manual Implementation"
   ]
  },
  {
   "cell_type": "code",
   "execution_count": null,
   "id": "3",
   "metadata": {},
   "outputs": [],
   "source": [
    "import numpy as np\n",
    "from math import sqrt\n",
    "from scipy.stats import t\n",
    "from utils import check_null_hypothesis_rejected\n",
    "\n",
    "# Sample data\n",
    "group_a = np.array([85, 90, 88, 75, 95])\n",
    "group_b = np.array([80, 70, 78, 65, 85])\n",
    "                   \n",
    "# Sample sizes\n",
    "n1 = len(group_a)\n",
    "n2 = len(group_b)\n",
    "\n",
    "# Sample means\n",
    "mean1 = np.mean(group_a)\n",
    "mean2 = np.mean(group_b)\n",
    "\n",
    "# Sample variances (use ddof=1 for sample variance)\n",
    "var1 = np.var(group_a, ddof=1)\n",
    "var2 = np.var(group_b, ddof=1)\n",
    "\n",
    "# Pooled variance\n",
    "sp_squared = ((n1 - 1)*var1 + (n2 - 1)*var2) / (n1 + n2 -2)\n",
    "\n",
    "# t-statistic\n",
    "t_stat = (mean1 - mean2) / sqrt(sp_squared * (1/n1 + 1/n2))\n",
    "\n",
    "# Degrees of freedom\n",
    "df = n1 + n2 - 2\n",
    "\n",
    "# P-Value\n",
    "p_value = 2 * (1 - t.cdf(abs(t_stat), df))\n",
    "\n",
    "# Output\n",
    "print(f\"Group A mean: {mean1:.2f}, variance: {var1:.2f}\")\n",
    "print(f\"Group A mean: {mean2:.2f}, variance: {var2:.2f}\")\n",
    "print(f\"Pooled variance: {sp_squared:.2f}\")\n",
    "print(f\"T-statistic: {t_stat:.4f}\")\n",
    "print(f\"P-value: {p_value:.4f}\")\n",
    "print(f\"Degrees of freedom: {df}\")\n",
    "\n",
    "# Interpretation\n",
    "check_null_hypothesis_rejected(p_value)\n"
   ]
  }
 ],
 "metadata": {
  "kernelspec": {
   "display_name": "DataAnalysis_Statistics",
   "language": "python",
   "name": "python3"
  },
  "language_info": {
   "codemirror_mode": {
    "name": "ipython",
    "version": 3
   },
   "file_extension": ".py",
   "mimetype": "text/x-python",
   "name": "python",
   "nbconvert_exporter": "python",
   "pygments_lexer": "ipython3",
   "version": "3.11.13"
  }
 },
 "nbformat": 4,
 "nbformat_minor": 5
}
