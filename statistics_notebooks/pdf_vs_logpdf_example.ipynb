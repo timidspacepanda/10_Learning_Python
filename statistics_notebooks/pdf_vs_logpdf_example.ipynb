{
 "cells": [
  {
   "cell_type": "code",
   "execution_count": null,
   "id": "0",
   "metadata": {},
   "outputs": [],
   "source": [
    "# pdf vs. log-pdf\n",
    "\n",
    "import numpy as np\n",
    "from scipy.stats import norm\n",
    "\n",
    "data = [0, 0.5, -0.5]\n",
    "params = norm.fit(data) # Estimate mu and sigma\n",
    "\n",
    "# PDF for each value\n",
    "pdf_values = norm.pdf(data, *params)\n",
    "\n",
    "# logPDF for each value\n",
    "logpdf_values = norm.logpdf(data, *params)\n",
    "\n",
    "# Total likelihood = product of PDFs\n",
    "likelihood = np.prod(pdf_values)\n",
    "print(f\"likelihood = {likelihood:.3f}\")\n",
    "\n",
    "# Log-likelihood = sum of logPDFs\n",
    "log_likelihood = np.sum(logpdf_values)\n",
    "print(f\"log likelihood = {log_likelihood:.3f}\")\n",
    "print(f\"Conversion: {(np.exp(log_likelihood)):.3f}\")"
   ]
  }
 ],
 "metadata": {
  "kernelspec": {
   "display_name": "DataAnalysis_Statistics",
   "language": "python",
   "name": "python3"
  },
  "language_info": {
   "codemirror_mode": {
    "name": "ipython",
    "version": 3
   },
   "file_extension": ".py",
   "mimetype": "text/x-python",
   "name": "python",
   "nbconvert_exporter": "python",
   "pygments_lexer": "ipython3",
   "version": "3.11.13"
  }
 },
 "nbformat": 4,
 "nbformat_minor": 5
}
