{
 "cells": [
  {
   "cell_type": "markdown",
   "id": "0",
   "metadata": {},
   "source": [
    "## PMF, PDF, CDF\n",
    "Demo of the PMF, PDF, and CDF using:\n",
    "* A discrete distribution (Binomial --> PMF, CDF)\n",
    "* A continuous distribtuion (Normal --> PDF, CDF)"
   ]
  },
  {
   "cell_type": "code",
   "execution_count": null,
   "id": "1",
   "metadata": {},
   "outputs": [],
   "source": [
    "# 1. Discrete Example: Binomial Distribution\n",
    "import numpy as np\n",
    "import matplotlib.pyplot as plt\n",
    "from scipy.stats import binom\n",
    "\n",
    "# Parameters\n",
    "n = 10      # number of trials\n",
    "p = 0.5     # probability of success\n",
    "x = np.arange(0, n + 1)\n",
    "\n",
    "# PMF and CDF\n",
    "pmf_vals = binom.pmf(x, n, p)\n",
    "cdf_vals = binom.cdf(x, n, p)\n",
    "\n",
    "# Plot PMF\n",
    "plt.figure(figsize=(10, 4))\n",
    "plt.subplot(1, 2, 1)\n",
    "plt.stem(x, pmf_vals, basefmt=\" \")\n",
    "plt.title('Binomial PMF (n=10, p=0.5)')\n",
    "plt.xlabel('x')\n",
    "plt.ylabel('P(X=x)')\n",
    "\n",
    "# Plot CDF\n",
    "plt.subplot(1, 2, 2)\n",
    "plt.step(x, cdf_vals, where='post')\n",
    "plt.title('Binomial CDF')\n",
    "plt.xlabel('x')\n",
    "plt.ylabel('P(X <= x)')\n",
    "plt.tight_layout()\n",
    "plt.show()"
   ]
  },
  {
   "cell_type": "code",
   "execution_count": null,
   "id": "2",
   "metadata": {},
   "outputs": [],
   "source": [
    "# 2. Continuous Example: Normal Distribution\n",
    "from scipy.stats import norm\n",
    "\n",
    "# Define a range of x values\n",
    "x = np.linspace(-4, 4, 1000)\n",
    "\n",
    "# Parameters of the normal distribution\n",
    "mu = 0      # mean\n",
    "sigma = 1   # standard deviation\n",
    "\n",
    "# PDF and CDF\n",
    "pdf_vals = norm.pdf(x, mu, sigma)\n",
    "cdf_vals = norm.cdf(x, mu, sigma)\n",
    "\n",
    "# Plot PDF and CDF\n",
    "plt.figure(figsize=(10, 4))\n",
    "\n",
    "# PDF\n",
    "plt.subplot(1, 2, 1)\n",
    "plt.plot(x, pdf_vals)\n",
    "plt.title('Normal PDF (mu=0, sigma=1)')\n",
    "plt.xlabel('x')\n",
    "plt.ylabel('Density')\n",
    "\n",
    "# CDF\n",
    "plt.subplot(1, 2, 2)\n",
    "plt.plot(x, cdf_vals)\n",
    "plt.title('Normal CDF')\n",
    "plt.xlabel('x')\n",
    "plt.ylabel('P(X <= x)')\n",
    "\n",
    "plt.tight_layout()\n",
    "plt.show()"
   ]
  }
 ],
 "metadata": {
  "kernelspec": {
   "display_name": "DataAnalysis_Statistics",
   "language": "python",
   "name": "python3"
  },
  "language_info": {
   "codemirror_mode": {
    "name": "ipython",
    "version": 3
   },
   "file_extension": ".py",
   "mimetype": "text/x-python",
   "name": "python",
   "nbconvert_exporter": "python",
   "pygments_lexer": "ipython3",
   "version": "3.11.13"
  }
 },
 "nbformat": 4,
 "nbformat_minor": 5
}
