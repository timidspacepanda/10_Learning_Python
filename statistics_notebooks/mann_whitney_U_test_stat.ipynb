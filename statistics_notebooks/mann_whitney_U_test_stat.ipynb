{
 "cells": [
  {
   "cell_type": "code",
   "execution_count": null,
   "id": "0",
   "metadata": {},
   "outputs": [],
   "source": [
    "## Mann-Whitney U Test\n",
    "\n",
    "from scipy.stats import mannwhitneyu\n",
    "from utils.stats_calc_module import check_null_hypothesis_rejected\n",
    "\n",
    "# Example: Two independent groups (e.g., test scores of two classes.)\n",
    "group_a = [88, 92, 85, 91, 87] # Class A scores\n",
    "group_b = [78, 75, 80, 74, 77] # Class B scores\n",
    "\n",
    "# Perform the Mann-Witney\n",
    "statistic, p_value = mannwhitneyu(group_a, group_b, alternative='two-sided')\n",
    "\n",
    "print(f\"Mann-Whitney U statistic = {statistic}\")\n",
    "print(f\"p-value = {p_value:.4f}\")\n",
    "\n",
    "# Interpret the result\n",
    "check_null_hypothesis_rejected(p_value)"
   ]
  }
 ],
 "metadata": {
  "kernelspec": {
   "display_name": "DataAnalysis_Statistics",
   "language": "python",
   "name": "python3"
  },
  "language_info": {
   "codemirror_mode": {
    "name": "ipython",
    "version": 3
   },
   "file_extension": ".py",
   "mimetype": "text/x-python",
   "name": "python",
   "nbconvert_exporter": "python",
   "pygments_lexer": "ipython3",
   "version": "3.11.13"
  }
 },
 "nbformat": 4,
 "nbformat_minor": 5
}
