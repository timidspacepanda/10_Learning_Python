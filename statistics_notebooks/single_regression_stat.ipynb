{
 "cells": [
  {
   "cell_type": "markdown",
   "id": "0",
   "metadata": {},
   "source": [
    "# Simple Linear Regression (1 feature)"
   ]
  },
  {
   "cell_type": "code",
   "execution_count": null,
   "id": "1",
   "metadata": {},
   "outputs": [],
   "source": [
    "import numpy as np\n",
    "import matplotlib.pyplot as plt\n",
    "from sklearn.linear_model import LinearRegression\n",
    "from utils import evaluate_regression\n",
    "\n",
    "# Sample data\n",
    "x = np.array([1, 2, 3, 4, 5]).reshape(-1,1)\n",
    "y = np.array([2, 3, 5, 4, 5])\n",
    "\n",
    "# Fit model\n",
    "model = LinearRegression()\n",
    "model.fit(x, y)\n",
    "\n",
    "# Predict\n",
    "y_pred = model.predict(x)\n",
    "plt.scatter(x,y, color='blue')\n",
    "plt.plot(x, y_pred, color='red')\n",
    "plt.xlabel(\"x\")\n",
    "plt.ylabel(\"y\")\n",
    "plt.title(\"Simple Linear Regression\")\n",
    "plt.show()\n",
    "\n",
    "print(\"Coefficient:\", model.coef_)\n",
    "print(\"Intercept:\" , model.intercept_)\n",
    "\n",
    "# Evaluate the model using evaluate_regression\n",
    "evaluate_regression(y, y_pred)"
   ]
  }
 ],
 "metadata": {
  "kernelspec": {
   "display_name": "DataAnalysis_Statistics",
   "language": "python",
   "name": "python3"
  },
  "language_info": {
   "codemirror_mode": {
    "name": "ipython",
    "version": 3
   },
   "file_extension": ".py",
   "mimetype": "text/x-python",
   "name": "python",
   "nbconvert_exporter": "python",
   "pygments_lexer": "ipython3",
   "version": "3.11.13"
  }
 },
 "nbformat": 4,
 "nbformat_minor": 5
}
