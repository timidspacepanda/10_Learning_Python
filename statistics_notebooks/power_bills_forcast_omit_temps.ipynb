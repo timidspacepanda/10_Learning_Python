{
 "cells": [
  {
   "cell_type": "code",
   "execution_count": null,
   "id": "0",
   "metadata": {},
   "outputs": [],
   "source": [
    "import numpy as np\n",
    "import pandas as pd\n",
    "import matplotlib.pyplot as plt\n",
    "from statsmodels.tsa.statespace.sarimax import SARIMAX\n",
    "\n",
    "\n",
    "# --- 1. Load data from CSV file ---\n",
    "# The CSV has one row of dates (MM/DD/YYYY) and one row of bill amounts\n",
    "# Example:\n",
    "# 7/1/2022, 8/1/2022, 9/1/2022, ...\n",
    "# 120, 130, 125, ...\n",
    "csv_path = '../data/actual_power_data.csv'\n",
    "\n",
    "df_raw = pd.read_csv(csv_path, header=None)\n",
    "date_strings = df_raw.iloc[0].values\n",
    "bill_values = df_raw.iloc[1].values.astype(float)\n",
    "\n",
    "# 2. Convert dates and create a time series\n",
    "dates = pd.to_datetime(date_strings, format='%m/%d/%Y')\n",
    "bills_series = pd.Series(bill_values, index=dates)\n",
    "\n",
    "# 3. Fit SARIMAX model without exogenous variable\n",
    "model = SARIMAX(bills_series,\n",
    "                order=(1,1,1),\n",
    "                seasonal_order=(1,1,1,12),\n",
    "                enforce_stationarity=False,\n",
    "                enforce_invertibility=False\n",
    "                )\n",
    "results = model.fit(disp=False)\n",
    "\n",
    "# 4. Forecast next 12 months\n",
    "future_index = pd.date_range(start=dates[-1] + pd.offsets.MonthBegin(), periods=12, freq='MS')\n",
    "forecast = results.get_forecast(steps=12)\n",
    "forecast_mean = forecast.predicted_mean\n",
    "forecast_ci = forecast.conf_int()\n",
    "\n",
    "# 5. Plot the forecast\n",
    "plt.figure(figsize=(12,6))\n",
    "plt.plot(bills_series, label='Observed Bills', color='blue')\n",
    "plt.plot(future_index, forecast_mean, label='Forecasted Bills', color='red')\n",
    "plt.fill_between(future_index, forecast_ci.iloc[:,0], forecast_ci.iloc[:,1],\n",
    "                 color='pink', alpha=0.3)\n",
    "\n",
    "plt.title('Power Bill Forecast (No Exogenous Variable)')\n",
    "plt.xlabel('Date')\n",
    "plt.ylabel('Bill Amount ($)')\n",
    "plt.legend()\n",
    "plt.grid(True)\n",
    "plt.tight_layout()\n",
    "plt.show()\n",
    "\n",
    "# 6. Print forecasted bills\n",
    "print(\"Forecasted power bills without temperature:\")\n",
    "for date, value in zip(future_index, forecast_mean):\n",
    "    print(f\"{date.strftime('%B %Y')}: ${value:.2f}\")"
   ]
  }
 ],
 "metadata": {
  "kernelspec": {
   "display_name": "DataAnalysis_Statistics",
   "language": "python",
   "name": "python3"
  },
  "language_info": {
   "codemirror_mode": {
    "name": "ipython",
    "version": 3
   },
   "file_extension": ".py",
   "mimetype": "text/x-python",
   "name": "python",
   "nbconvert_exporter": "python",
   "pygments_lexer": "ipython3",
   "version": "3.11.13"
  }
 },
 "nbformat": 4,
 "nbformat_minor": 5
}
