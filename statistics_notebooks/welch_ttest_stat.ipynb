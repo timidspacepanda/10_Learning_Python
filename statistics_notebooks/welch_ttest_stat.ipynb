{
 "cells": [
  {
   "cell_type": "code",
   "execution_count": null,
   "id": "0",
   "metadata": {},
   "outputs": [],
   "source": [
    "## Welch's t-test example\n",
    "\n",
    "from scipy.stats import ttest_ind\n",
    "from utils import check_null_hypothesis_rejected\n",
    "\n",
    "# Sample data from from two independent groups with unequal variances\n",
    "\n",
    "group1 = [85, 86, 88, 75, 78, 91]\n",
    "group2 = [82, 79, 84, 80]\n",
    "\n",
    "# Perform Welch's t-test (does NOT assume equal variance)\n",
    "stat,p_value = ttest_ind(group1, group2, equal_var=False)\n",
    "\n",
    "print(f\"Welch's t-statistic = {stat:.3f}\")\n",
    "print(f\"p-vale = {p_value:.3f}\")\n",
    "\n",
    "# Interpretation\n",
    "check_null_hypothesis_rejected(p_value)\n"
   ]
  }
 ],
 "metadata": {
  "kernelspec": {
   "display_name": "DataAnalysis_Statistics",
   "language": "python",
   "name": "python3"
  },
  "language_info": {
   "codemirror_mode": {
    "name": "ipython",
    "version": 3
   },
   "file_extension": ".py",
   "mimetype": "text/x-python",
   "name": "python",
   "nbconvert_exporter": "python",
   "pygments_lexer": "ipython3",
   "version": "3.11.13"
  }
 },
 "nbformat": 4,
 "nbformat_minor": 5
}
