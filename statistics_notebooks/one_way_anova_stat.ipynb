{
 "cells": [
  {
   "cell_type": "markdown",
   "id": "0",
   "metadata": {},
   "source": [
    "# Scenario: One-Way ANOVA (Analysis of Variance)\n",
    "You have test scores from 3 different teaching methods (A, B, and, C) and want to know if there's a significant difference in group means."
   ]
  },
  {
   "cell_type": "code",
   "execution_count": null,
   "id": "1",
   "metadata": {},
   "outputs": [],
   "source": [
    "from scipy.stats import f_oneway\n",
    "from utils import check_null_hypothesis_rejected\n",
    "\n",
    "# Sample data: scores from 3 groups\n",
    "group_a = [85, 90, 88, 75, 95]\n",
    "group_b = [70, 65, 80, 72, 78]\n",
    "group_c = [88, 92, 85, 91, 89]\n",
    "\n",
    "# One-way ANOVA\n",
    "f_stat, p_value = f_oneway(group_a, group_b, group_c)\n",
    "\n",
    "# Output\n",
    "print(f\"F-statistic: {f_stat:.4f}\")\n",
    "print(f\"P-value: {p_value:.4f}\")\n",
    "\n",
    "# Interpretation\n",
    "check_null_hypothesis_rejected(p_value)"
   ]
  },
  {
   "cell_type": "markdown",
   "id": "2",
   "metadata": {},
   "source": [
    "## Manual Implementation"
   ]
  },
  {
   "cell_type": "code",
   "execution_count": null,
   "id": "3",
   "metadata": {},
   "outputs": [],
   "source": [
    "import numpy as np\n",
    "from scipy.stats import f\n",
    "from utils import check_null_hypothesis_rejected\n",
    "\n",
    "# Sample data: scores from 3 groups\n",
    "group_a = [85, 90, 88, 75, 95]\n",
    "group_b = [70, 65, 80, 72, 78]\n",
    "group_c = [88, 92, 85, 91, 89]\n",
    "\n",
    "groups = [group_a, group_b, group_c]\n",
    "all_data = np.concatenate(groups)\n",
    "\n",
    "grand_mean = np.mean(all_data)\n",
    "\n",
    "# Between-group sum of squares (SSB)\n",
    "ssb = sum(len(group) * (np.mean(group) - grand_mean) ** 2 for group in groups)\n",
    "\n",
    "# Within-group sum of squares (SSW)\n",
    "ssw = sum(sum((x - np.mean(group)) ** 2 for x in group) for group in groups)\n",
    "\n",
    "# Degrees of freedom\n",
    "k = len(groups)    # Number of groups\n",
    "n_total = len(all_data)    # Total number of observations\n",
    "df_between = k - 1\n",
    "df_within = n_total -k\n",
    "\n",
    "# Mean squares\n",
    "msb = ssb / df_between\n",
    "msw = ssw / df_within\n",
    "\n",
    "# F-statistic\n",
    "f_stat = msb / msw\n",
    "\n",
    "# P-value\n",
    "    # Calculate p-value using the survial function (1 - CDF)\n",
    "p_value = 1 - f.cdf(f_stat, df_between, df_within)\n",
    "\n",
    "    # Or use survival function directly (more precise)\n",
    "# p_value = f.sf(f_stat, df_between, df_within)\n",
    "\n",
    "# Output\n",
    "print(f\"Grand Mean: {grand_mean:.2f}\")\n",
    "print(f\"SSB (Between): {ssb:.2f}\")\n",
    "print(f\"SSW (Within): {ssw:.2f}\")\n",
    "print(f\"MSB: {msb:.2f}\")\n",
    "print(f\"MSW: {msw:.2f}\")\n",
    "print(f\"F-statistic: {f_stat:.4f}\")\n",
    "print(f\"P-value: {p_value:.4f}\")\n",
    "print(f\"Degrees of Freedom: {df_between} (between), {df_within} (within)\")\n",
    "\n",
    "# Interpretation\n",
    "check_null_hypothesis_rejected(p_value)"
   ]
  }
 ],
 "metadata": {
  "kernelspec": {
   "display_name": "DataAnalysis_Statistics",
   "language": "python",
   "name": "python3"
  },
  "language_info": {
   "codemirror_mode": {
    "name": "ipython",
    "version": 3
   },
   "file_extension": ".py",
   "mimetype": "text/x-python",
   "name": "python",
   "nbconvert_exporter": "python",
   "pygments_lexer": "ipython3",
   "version": "3.11.13"
  }
 },
 "nbformat": 4,
 "nbformat_minor": 5
}
