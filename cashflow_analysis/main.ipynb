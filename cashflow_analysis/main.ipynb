{
 "cells": [
  {
   "cell_type": "code",
   "execution_count": 46,
   "id": "1ef7f092",
   "metadata": {},
   "outputs": [
    {
     "name": "stdout",
     "output_type": "stream",
     "text": [
      "        Date                                        Description   Amount  \\\n",
      "0 2024-07-05  DFAS-CLEVELAND DES:FED SALARY ID:XXXXX2985 IND...  2605.67   \n",
      "1 2024-07-08  Online Banking transfer from SAV 2175 Confirma...   300.00   \n",
      "2 2024-07-08           Bank of America Credit Card Bill Payment  -403.93   \n",
      "3 2024-07-12  PANINI KABOB GRILL BAKE 07/10 PURCHASE BAKERSF...   -26.17   \n",
      "4 2024-07-15  INDIAN WELLS VALLEY WAT 07/11 PURCHASE 760-375...   -62.92   \n",
      "\n",
      "   Running Bal.  \n",
      "0       2605.67  \n",
      "1       2905.67  \n",
      "2       2501.74  \n",
      "3       2475.57  \n",
      "4       2412.65  \n",
      "Date            datetime64[ns]\n",
      "Description             object\n",
      "Amount                 float64\n",
      "Running Bal.           float64\n",
      "dtype: object\n"
     ]
    }
   ],
   "source": [
    "import pandas as pd\n",
    "from scipy import stats\n",
    "\n",
    "df = pd.read_csv('../data/stmt.csv')\n",
    "\n",
    "# Convert to numeric\n",
    "df['Amount'] = pd.to_numeric(df['Amount'].str.replace(',', '', regex=False))\n",
    "df['Running Bal.'] = pd.to_numeric(df['Running Bal.'].str.replace(',', '', regex=False))\n",
    "\n",
    "# Convert to datetime\n",
    "df['Date'] = pd.to_datetime(df['Date'], errors='coerce')\n",
    "\n",
    "print(df.head())\n",
    "\n",
    "print(df.dtypes)\n"
   ]
  },
  {
   "cell_type": "code",
   "execution_count": 47,
   "id": "75129a1f",
   "metadata": {},
   "outputs": [
    {
     "name": "stdout",
     "output_type": "stream",
     "text": [
      "count     682.000000\n",
      "mean        4.250117\n",
      "std       705.771333\n",
      "min     -5721.000000\n",
      "25%      -114.922500\n",
      "50%       -40.000000\n",
      "75%       -14.000000\n",
      "max      5164.000000\n",
      "Name: Amount, dtype: float64\n",
      "2.3330335598872125\n",
      "22.437392985905056\n"
     ]
    }
   ],
   "source": [
    "# Caclculate descriptive statistics\n",
    "print(df['Amount'].describe(include='all'))\n",
    "\n",
    "# Skewness and Kurtosis\n",
    "print(stats.skew(df['Amount'].dropna()))\n",
    "print(stats.kurtosis(df['Amount'].dropna(), fisher=False)) # Use fisher=True for excess kurtosis\n"
   ]
  },
  {
   "cell_type": "code",
   "execution_count": 48,
   "id": "fcfb941d",
   "metadata": {},
   "outputs": [
    {
     "name": "stdout",
     "output_type": "stream",
     "text": [
      "             Amount  Running Bal.\n",
      "Date                             \n",
      "2024-07-31  2394.02      63796.88\n",
      "2024-08-31  3226.92      93133.27\n",
      "2024-09-30 -3414.02      99083.98\n",
      "2024-10-31  -592.48      57902.11\n",
      "2024-11-30   926.08      48153.44\n",
      "2024-12-31  -298.33      96274.57\n",
      "2025-01-31  2486.45     138170.51\n",
      "2025-02-28 -1082.11     246584.64\n",
      "2025-03-31  1386.30     382585.95\n",
      "2025-04-30 -1181.62     341916.79\n",
      "2025-05-31 -2162.82     271474.11\n",
      "2025-06-30   -99.73     120897.51\n",
      "2025-07-31  1309.92       9192.98\n"
     ]
    },
    {
     "name": "stderr",
     "output_type": "stream",
     "text": [
      "C:\\Users\\KylePC\\AppData\\Local\\Temp\\ipykernel_9976\\1719393271.py:6: FutureWarning: 'M' is deprecated and will be removed in a future version, please use 'ME' instead.\n",
      "  monthly_df = df.resample('M').sum()\n"
     ]
    }
   ],
   "source": [
    "# Downsample dataset to Monthly Cashflow\n",
    "# Set date as index\n",
    "df.set_index('Date', inplace=True)\n",
    "\n",
    "# Resample by month and sum the cashflow\n",
    "monthly_df = df.resample('M').sum()\n",
    "monthly_df = monthly_df.drop(['Description'], axis=1)\n",
    "print(monthly_df)"
   ]
  }
 ],
 "metadata": {
  "kernelspec": {
   "display_name": "DataAnalysis_Statistics",
   "language": "python",
   "name": "python3"
  },
  "language_info": {
   "codemirror_mode": {
    "name": "ipython",
    "version": 3
   },
   "file_extension": ".py",
   "mimetype": "text/x-python",
   "name": "python",
   "nbconvert_exporter": "python",
   "pygments_lexer": "ipython3",
   "version": "3.11.13"
  }
 },
 "nbformat": 4,
 "nbformat_minor": 5
}
